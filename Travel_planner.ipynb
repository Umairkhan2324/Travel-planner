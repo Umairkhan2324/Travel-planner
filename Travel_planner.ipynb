{
  "nbformat": 4,
  "nbformat_minor": 0,
  "metadata": {
    "colab": {
      "provenance": [],
      "gpuType": "T4",
      "authorship_tag": "ABX9TyMSk7zwQhakvumI+ekePuOa"
    },
    "kernelspec": {
      "name": "python3",
      "display_name": "Python 3"
    },
    "language_info": {
      "name": "python"
    },
    "accelerator": "GPU"
  },
  "cells": [
    {
      "cell_type": "code",
      "execution_count": 1,
      "metadata": {
        "id": "jcF5cpbCQlSa"
      },
      "outputs": [],
      "source": [
        "\n",
        "%%capture --no-stderr\n",
        "%pip install --quiet -U langgraph langchain_community langchain_core langchain-groq"
      ]
    },
    {
      "cell_type": "code",
      "source": [
        "import os,getpass\n",
        "from typing import TypedDict, Annotated, List\n",
        "from langgraph.graph import StateGraph, END\n",
        "from langchain_core.messages import HumanMessage, AIMessage\n",
        "from langchain_core.prompts import ChatPromptTemplate\n",
        "from langchain_groq import ChatGroq\n",
        "from langchain_core.runnables.graph import MermaidDrawMethod\n",
        "from IPython.display import display, Image\n",
        "from dotenv import load_dotenv"
      ],
      "metadata": {
        "id": "34QdiraqRE2T"
      },
      "execution_count": 2,
      "outputs": []
    },
    {
      "cell_type": "code",
      "source": [
        "\n",
        "def _set_env(var: str):\n",
        "    if not os.environ.get(var):\n",
        "        os.environ[var] = getpass.getpass(f\"{var}: \")\n",
        "\n",
        "_set_env(\"GROQ_API_KEY\")\n"
      ],
      "metadata": {
        "colab": {
          "base_uri": "https://localhost:8080/"
        },
        "id": "PyoA66g6RWND",
        "outputId": "9458e781-1eef-454b-cebe-5dfdc6955ec0"
      },
      "execution_count": 3,
      "outputs": [
        {
          "name": "stdout",
          "output_type": "stream",
          "text": [
            "GROQ_API_KEY: ··········\n"
          ]
        }
      ]
    },
    {
      "cell_type": "code",
      "source": [
        "\n",
        "llm = ChatGroq(\n",
        "    model=\"llama-3.1-70b-versatile\",\n",
        "    temperature=0.1,\n",
        ")"
      ],
      "metadata": {
        "id": "lQGFylx7ReD6"
      },
      "execution_count": 4,
      "outputs": []
    },
    {
      "cell_type": "code",
      "source": [
        "class PlannerState(TypedDict):\n",
        "    messages: Annotated[List[HumanMessage | AIMessage], \"The messages in the conversation\"]\n",
        "    city: str\n",
        "    interests: List[str]\n",
        "    Ayaz: str"
      ],
      "metadata": {
        "id": "WvO6MfRhRgk1"
      },
      "execution_count": 11,
      "outputs": []
    },
    {
      "cell_type": "code",
      "source": [
        "Ayaz_prompt = ChatPromptTemplate.from_messages([\n",
        "    (\"system\", \"You are , Ayaz ,a helpful travel assistant. Create a day trip for {city} based on the user's interests: {interests}. Provide a brief, bulleted itinerary.\"),\n",
        "    (\"human\", \"Create an itinerary for my day trip.\"),\n",
        "])"
      ],
      "metadata": {
        "id": "IZH-gJMvRmyu"
      },
      "execution_count": 17,
      "outputs": []
    },
    {
      "cell_type": "code",
      "source": [
        "def input_city(state: PlannerState) -> PlannerState:\n",
        "    print(\"Please enter the city you want to visit for your day trip:\")\n",
        "    user_message = input(\"Your input: \")\n",
        "    return {\n",
        "        **state,\n",
        "        \"city\": user_message,\n",
        "        \"messages\": state['messages'] + [HumanMessage(content=user_message)],\n",
        "    }\n",
        "\n",
        "def input_interests(state: PlannerState) -> PlannerState:\n",
        "    print(f\"Please enter your interests for the trip to {state['city']} (comma-separated):\")\n",
        "    user_message = input(\"Your input: \")\n",
        "    return {\n",
        "        **state,\n",
        "        \"interests\": [interest.strip() for interest in user_message.split(',')],\n",
        "        \"messages\": state['messages'] + [HumanMessage(content=user_message)],\n",
        "    }\n",
        "\n",
        "def create_Ayaz(state: PlannerState) -> PlannerState:\n",
        "    print(f\"Ayaz is scheduling a trip for {state['city']} based on interests: {', '.join(state['interests'])}...\")\n",
        "    response = llm.invoke(Ayaz_prompt.format_messages(city=state['city'], interests=\", \".join(state['interests'])))\n",
        "    print(\"\\nFinal Schedule:\")\n",
        "    print(response.content)\n",
        "    return {\n",
        "        **state,\n",
        "        \"messages\": state['messages'] + [AIMessage(content=response.content)],\n",
        "        \"Ayaz\": response.content,\n",
        "    }"
      ],
      "metadata": {
        "id": "NmioB8JhRyfz"
      },
      "execution_count": 18,
      "outputs": []
    },
    {
      "cell_type": "code",
      "source": [
        "workflow = StateGraph(PlannerState)\n",
        "\n",
        "workflow.add_node(\"input_city\", input_city)\n",
        "workflow.add_node(\"input_interests\", input_interests)\n",
        "workflow.add_node(\"create_Ayaz\", create_Ayaz)\n",
        "\n",
        "workflow.set_entry_point(\"input_city\")\n",
        "\n",
        "workflow.add_edge(\"input_city\", \"input_interests\")\n",
        "workflow.add_edge(\"input_interests\", \"create_Ayaz\")\n",
        "workflow.add_edge(\"create_Ayaz\", END)\n",
        "\n",
        "app = workflow.compile()"
      ],
      "metadata": {
        "id": "NoLZ_3hWRzaY"
      },
      "execution_count": 19,
      "outputs": []
    },
    {
      "cell_type": "code",
      "source": [
        "def run_travel_planner(user_request: str):\n",
        "    print(f\"Initial Request: {user_request}\\n\")\n",
        "    state = {\n",
        "        \"messages\": [HumanMessage(content=user_request)],\n",
        "        \"city\": \"\",\n",
        "        \"interests\": [],\n",
        "        \"Ayaz\": \"\",\n",
        "    }\n",
        "\n",
        "    for output in app.stream(state):\n",
        "        pass  # The nodes themselves now handle all printing"
      ],
      "metadata": {
        "id": "8o7Oi99hR2ya"
      },
      "execution_count": 20,
      "outputs": []
    },
    {
      "cell_type": "code",
      "source": [
        "user_request = \"I want to plan a day trip.\"\n",
        "run_travel_planner(user_request)"
      ],
      "metadata": {
        "colab": {
          "base_uri": "https://localhost:8080/"
        },
        "id": "UOT-pdVFR8k3",
        "outputId": "b2fed9bc-78b8-482b-b232-9405662e4c21"
      },
      "execution_count": 21,
      "outputs": [
        {
          "output_type": "stream",
          "name": "stdout",
          "text": [
            "Initial Request: I want to plan a day trip.\n",
            "\n",
            "Please enter the city you want to visit for your day trip:\n",
            "Your input: karachi\n",
            "Please enter your interests for the trip to karachi (comma-separated):\n",
            "Your input: history, food, sea\n",
            "Ayaz is scheduling a trip for karachi based on interests: history, food, sea...\n",
            "\n",
            "Final Schedule:\n",
            "I'd be happy to help you plan a day trip in Karachi. Based on your interests in history, food, and the sea, I've created a brief itinerary for you:\n",
            "\n",
            "**Day Trip Itinerary: \"Karachi's Coastal Heritage\"**\n",
            "\n",
            "* **9:00 AM - 10:00 AM:** Start the day with a visit to the **Quaid-e-Azam Museum** (Flagstaff House), a historic house museum showcasing the life and legacy of Muhammad Ali Jinnah, the founder of Pakistan.\n",
            "* **10:30 AM - 12:00 PM:** Head to the **Mohatta Palace**, a stunning example of Rajasthani architecture that now serves as a museum. Explore the palace's beautiful gardens, fountains, and exhibits that highlight Karachi's rich cultural heritage.\n",
            "* **1:00 PM - 2:30 PM:** Take a break for lunch at a local seafood restaurant, such as **Sindbad** or **Bar-B-Q Tonight**, to try some of Karachi's famous seafood dishes like fish biryani or prawn karahi.\n",
            "* **3:00 PM - 5:00 PM:** Visit the **Clifton Beach**, also known as Sea View, to enjoy the scenic views of the Arabian Sea. Take a leisurely walk along the beach, try some street food like chaat or kebabs, and enjoy the sunset.\n",
            "* **6:00 PM - 7:30 PM:** End the day with a visit to the **Dolmen Mall**, a popular shopping mall with a beautiful sea-facing promenade. Enjoy the views of the sea while sipping on a cup of coffee or tea at one of the mall's cafes.\n",
            "\n",
            "This itinerary should give you a good taste of Karachi's history, food, and sea views. Of course, feel free to adjust the schedule to suit your preferences and pace.\n"
          ]
        }
      ]
    }
  ]
}